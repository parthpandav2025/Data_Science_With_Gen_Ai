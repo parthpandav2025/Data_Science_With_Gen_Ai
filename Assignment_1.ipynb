{
  "nbformat": 4,
  "nbformat_minor": 0,
  "metadata": {
    "colab": {
      "provenance": []
    },
    "kernelspec": {
      "name": "python3",
      "display_name": "Python 3"
    },
    "language_info": {
      "name": "python"
    }
  },
  "cells": [
    {
      "cell_type": "markdown",
      "source": [
        "# PYTHON BASICS :-"
      ],
      "metadata": {
        "id": "UYGFkw-I263k"
      }
    },
    {
      "cell_type": "markdown",
      "source": [
        "#Theory Questions : -  "
      ],
      "metadata": {
        "id": "th2m-sCH-j7Y"
      }
    },
    {
      "cell_type": "markdown",
      "source": [
        "Question- 1.  What is Python, and why is it popular ?\n",
        "  - python is a programming language. it is a formal language.\n",
        "  - python is a set of rules and symbol , that define a process of writing computer program.\n",
        "  - that is easy to understand and writing and making.\n",
        "  - making it a popular developers and programmers.\n",
        "\n",
        "      *** Reason to popularity ***\n",
        "  -  widely used in industry , image processing , data bases.\n"
      ],
      "metadata": {
        "id": "-fTfoOgB3QVL"
      }
    },
    {
      "cell_type": "markdown",
      "source": [
        "Question -2.  What is an interpreter in Python ?\n",
        "  - interpreter is compile and check your code.\n",
        "  - interpreter is compile code line by line , and have error so you show the error and stop the compile your code.\n",
        "  - python is mostly used the interpreter because it showing the error run time.\n"
      ],
      "metadata": {
        "id": "DNeov9GC5r__"
      }
    },
    {
      "cell_type": "markdown",
      "source": [
        "Question- 3.  What are pre-defined keywords in Python ?\n",
        "  - keywords are pre-defined words that holds a special meaning specific purpose in python.\n",
        "  - there are many keywords ------------------\n",
        "  - import keyword\n",
        "  - print(keyword.kwlist)\n",
        "\n",
        "      - if, else, elif\n",
        "      - for, while, break, continue\n",
        "      - def, return, class\n",
        "      - import, from, as\n",
        "      -  True, False, None\n",
        "      -  and, or, not\n",
        "      -  try, except, finally\n",
        "      -   in, is"
      ],
      "metadata": {
        "id": "fCWNjjfp7GLL"
      }
    },
    {
      "cell_type": "markdown",
      "source": [
        "Question- 4.  Can keywords be used as variable names ?\n",
        "  - variables should not be a keyword, because kwywords are reserved words.\n",
        "  - variable name can be diffrent name , because python is case sensitive language.\n",
        "\n",
        "      *** example ***\n",
        "  - print(\"hello\") so printing \"hello\".\n",
        "\n",
        "  - but as a keyword name use as variable so...\n",
        "  - print =\"ajay\" so print variable value is \"print\"\n",
        "  - and after print(\"hyy\") so now show the error ,\n",
        "  -  because keyword used as a variable names.\n"
      ],
      "metadata": {
        "id": "GKtiqpjY9-TV"
      }
    },
    {
      "cell_type": "markdown",
      "source": [
        "Question- 5.  What is mutability in Python ?\n",
        "  - objects \\ container whose state or value can be manage after they are created are called as a mutability.\n",
        "  -  *** example ***\n",
        "  - a=[101,102,155,\"ajay\"]\n",
        "  - a[0]=200\n",
        "  - so after mutability --- a=[200,102,155,\"ajay\"]"
      ],
      "metadata": {
        "id": "wqPAxaZ7AU_o"
      }
    },
    {
      "cell_type": "markdown",
      "source": [
        "Question- 6.  Why are lists mutable, but tuples are immutable ?\n",
        "  - lists are mutable because list values can be change easily and it is stored.\n",
        "  - tuples are not immutable because it's value can not be changed and it is stored a square bracket.\n"
      ],
      "metadata": {
        "id": "RPf6Z_yfB3ID"
      }
    },
    {
      "cell_type": "markdown",
      "source": [
        "Question- 7.  What is the difference between “==” and “is” operators in Python ?\n",
        "  - \"==\" is a comparison (equal to) operator.\n",
        "  - it can used a variable value and define value can be same value.\n",
        "  - it output is true or false value.\n",
        " - in \"is\" operator is using compare objects based on their identity.\n",
        " -  When the variables on either side of an operator point at the exact same object, the “is” operator’s evaluation is true.\n",
        "  - otherwise, it would provide us with a false assessment."
      ],
      "metadata": {
        "id": "BF3JfsctDa1e"
      }
    },
    {
      "cell_type": "markdown",
      "source": [
        "Question- 8. What are logical operators in Python ?\n",
        "  - in the logical operator is define the logic between variables.\n",
        "  - it is define a boolean values(true or false)\n",
        "  - there are 3 types of logical operators.\n",
        "  - **1.and**\n",
        "  ***2.or**\n",
        "  ***3.not**\n",
        "\n",
        " there are and , or and not is use to define the logic between varibles and values.\n",
        "\n",
        "   - **(i) and** :\n",
        "  - if both operands are truth so return value is \"true\" otherwise \"false\".\n",
        "  \n",
        "   example-\n",
        "       x=\"true\"\n",
        "       y=\"false\"\n",
        "       print(x and y)\n",
        "       output - \"false\"\n",
        "\n",
        "    - **(ii) or** :\n",
        "  - if at least one operand is truth so return value is \"true\" otherwise \"false\".\n",
        "\n",
        "  example-\n",
        "        x=\"true\"\n",
        "        y=\"false\"\n",
        "        print(x or y)\n",
        "        output - \"true\"\n",
        "\n",
        "    - **(iii) not** :\n",
        "  - Returns the opposite boolean value of the operand. If the operand is True, it returns False, and if the operand is False, it returns True.\n",
        "\n",
        "  example-\n",
        "        x=\"true\"\n",
        "        y=\"false\"\n",
        "        print(not y)\n",
        "        output - \"true\"\n"
      ],
      "metadata": {
        "id": "yGnDr4qtbbp1"
      }
    },
    {
      "cell_type": "markdown",
      "source": [
        "Question- 9  What is type casting in Python?\n",
        "- Type casting is the process of converting a value from one data type to another.\n",
        "- Python provides built-in functions for type conversion:\n",
        "\n",
        "  - int(): Converts to integer\n",
        "  -float(): Converts to floating-point number\n",
        "  - str(): Converts to string\n",
        "  - list(), tuple(), set(): Convert to respective collection types\n"
      ],
      "metadata": {
        "id": "0CJ9Fk2d5laa"
      }
    },
    {
      "cell_type": "markdown",
      "source": [
        "Question- 10 What is the difference between implicit and explicit type casting?\n",
        "- Implicit type casting (automatic):\n",
        "\n",
        "    - Python automatically converts one data type to another when needed\n",
        "Usually occurs during expression evaluation\n",
        "- Explicit type casting (manual):\n",
        "\n",
        "    - The programmer explicitly converts using type conversion functions"
      ],
      "metadata": {
        "id": "1XKJ6szS7qh4"
      }
    },
    {
      "cell_type": "markdown",
      "source": [
        "Question -11  What is the purpose of conditional statements in Python ?\n",
        "- Conditional statements allow programs to make decisions based on certain conditions. They execute different code blocks depending on whether specified conditions are true or false. Purposes include:\n",
        "\n",
        "- Control program flow based on user input\n",
        "- Handle different scenarios in data processing\n",
        "- Implement business logic and rules\n",
        "- Prevent errors by checking conditions before operations\n",
        "- Create branches in algorithms\n",
        "\n",
        "The main conditional structures in Python are if, elif, and else.\n"
      ],
      "metadata": {
        "id": "fKpnekEf7-gg"
      }
    },
    {
      "cell_type": "markdown",
      "source": [
        "Question -12 How does the elif statement work?\n",
        "- The elif (short for \"else if\") statement in Python works as follows:\n",
        "\n",
        "- It's used after an initial if statement\n",
        "- It provides an additional condition to check if the previous condition(s) were False\n",
        "- Multiple elif statements can be chained to check multiple conditions in sequence\n",
        "- If the elif condition is True, its code block executes and subsequent elif/else blocks are skipped\n",
        "- If all if and elif conditions are False, the else block executes (if present)."
      ],
      "metadata": {
        "id": "LhN27aRR865D"
      }
    },
    {
      "cell_type": "markdown",
      "source": [
        "Question -13 What is the difference between for and while loops?\n",
        "The key differences are:\n",
        "\n",
        "- For Loop:\n",
        "\n",
        "    - Used for iterating over a sequence (list, tuple, string, etc.)\n",
        "Number of iterations is predetermined by the sequence length\n",
        "Better when you know the number of iterations in advance\n",
        "Cleaner syntax for sequence iteration\n",
        "- While Loop:\n",
        "\n",
        "    - Executes as long as a condition remains True\n",
        "Number of iterations depends on when the condition becomes False\n",
        "Better when you don't know how many iterations you'll need\n",
        "More suitable for checking conditions that change during execution"
      ],
      "metadata": {
        "id": "8b1f6OL_9L8P"
      }
    },
    {
      "cell_type": "markdown",
      "source": [
        "Question -14 Describe a scenario where a while loop is more suitable than a for loop?\n",
        "- A while loop is more suitable in situations where the number of iterations is not known in advance and depends on a dynamic condition that is evaluated during each iteration. In contrast, a for loop is typically used when you know how many times you want to iterate over a sequence or range.\n",
        "\n",
        "- Example Scenario: Imagine a situation where you are writing a program to keep prompting a user for a password until they enter the correct one. You don’t know how many attempts the user will need, but you need to continue asking until they provide the correct input. Here, a while loop is ideal because the condition (whether the password is correct) will change with each attempt, and the number of iterations is unknown."
      ],
      "metadata": {
        "id": "yQCUcKrs9Zgv"
      }
    },
    {
      "cell_type": "code",
      "source": [
        "# For example\n",
        "\n",
        "correct_password =input(\"enter your password \")\n",
        "user_input = \" \"\n",
        "\n",
        "# The loop continues until the user enters the correct password\n",
        "while user_input != correct_password:\n",
        "    user_input = input(\"Enter the correct password: \")\n",
        "\n",
        "print(\"Access granted.\")"
      ],
      "metadata": {
        "colab": {
          "base_uri": "https://localhost:8080/"
        },
        "id": "0kY_ej5X9zFi",
        "outputId": "88f305de-9720-4843-ef4b-6a4f3abdb929"
      },
      "execution_count": null,
      "outputs": [
        {
          "output_type": "stream",
          "name": "stdout",
          "text": [
            "enter your password 1255\n",
            "Enter the correct password: 1255\n",
            "Access granted.\n"
          ]
        }
      ]
    },
    {
      "cell_type": "markdown",
      "source": [
        "#Practical Questions :-\n"
      ],
      "metadata": {
        "id": "KOJS-2oU-uFH"
      }
    },
    {
      "cell_type": "markdown",
      "source": [
        "Question -1:. Write a Python program to print \"Hello, World !!\""
      ],
      "metadata": {
        "id": "L9HIBsQeCV1E"
      }
    },
    {
      "cell_type": "code",
      "source": [
        "print(\"hello world !! \")"
      ],
      "metadata": {
        "colab": {
          "base_uri": "https://localhost:8080/"
        },
        "id": "7dOl3fsQ7nYg",
        "outputId": "2f37a277-2f29-4eaa-d128-595298ab4a95"
      },
      "execution_count": null,
      "outputs": [
        {
          "output_type": "stream",
          "name": "stdout",
          "text": [
            "hello world\n"
          ]
        }
      ]
    },
    {
      "cell_type": "markdown",
      "source": [
        "Question -2 Write a Python program that displays your name and age."
      ],
      "metadata": {
        "id": "XteiyVlzCitY"
      }
    },
    {
      "cell_type": "code",
      "source": [
        "name=\"parth\"\n",
        "age=22\n",
        "print(\"name:\",name)\n",
        "print(\"age:\",age)"
      ],
      "metadata": {
        "id": "l6dsmPEG_jbg",
        "colab": {
          "base_uri": "https://localhost:8080/"
        },
        "outputId": "b7648e67-4942-4aeb-9893-62a067bf2bb0"
      },
      "execution_count": null,
      "outputs": [
        {
          "output_type": "stream",
          "name": "stdout",
          "text": [
            "name: parth\n",
            "age: 22\n"
          ]
        }
      ]
    },
    {
      "cell_type": "markdown",
      "source": [
        "Question -3 Write code to print all the pre-defined keywords in Python using the keyword library."
      ],
      "metadata": {
        "id": "J-KMaDxIDHNY"
      }
    },
    {
      "cell_type": "code",
      "source": [
        "# help(\"keywords\")\n",
        "# otherwise >>>>\n",
        "import keyword\n",
        "print(keyword.kwlist)"
      ],
      "metadata": {
        "colab": {
          "base_uri": "https://localhost:8080/"
        },
        "id": "yqVUlvygC05Y",
        "outputId": "3d76b9a4-4e21-44ff-c00e-a139f9dd85b6"
      },
      "execution_count": null,
      "outputs": [
        {
          "output_type": "stream",
          "name": "stdout",
          "text": [
            "['False', 'None', 'True', 'and', 'as', 'assert', 'async', 'await', 'break', 'class', 'continue', 'def', 'del', 'elif', 'else', 'except', 'finally', 'for', 'from', 'global', 'if', 'import', 'in', 'is', 'lambda', 'nonlocal', 'not', 'or', 'pass', 'raise', 'return', 'try', 'while', 'with', 'yield']\n"
          ]
        }
      ]
    },
    {
      "cell_type": "markdown",
      "source": [
        "Question -4 Write a program that checks if a given word is a Python keyword."
      ],
      "metadata": {
        "id": "Itjwk_jHD__W"
      }
    },
    {
      "cell_type": "code",
      "source": [
        "import keyword\n",
        "a=input(\"enter a value \")\n",
        "if keyword.iskeyword(a):\n",
        "  print(f\"{a} is a keyword\")\n",
        "else:\n",
        "  print(f\"{a} is a not keyword\")"
      ],
      "metadata": {
        "colab": {
          "base_uri": "https://localhost:8080/"
        },
        "id": "nV3zJkkdDXjm",
        "outputId": "d7a92ab8-135a-495a-86bc-8c7ec42f9817"
      },
      "execution_count": null,
      "outputs": [
        {
          "output_type": "stream",
          "name": "stdout",
          "text": [
            "enter a value if\n",
            "if is a keyword\n"
          ]
        }
      ]
    },
    {
      "cell_type": "markdown",
      "source": [
        "Question -5 Create a list and tuple in Python, and demonstrate how attempting to change an element works differently for each."
      ],
      "metadata": {
        "id": "A_i-ng0OFOKs"
      }
    },
    {
      "cell_type": "code",
      "source": [
        "list=[101,102,103,104]\n",
        "tuple=(101,102,103,104)\n",
        "print(\"my original list is\",list)\n",
        "\n",
        "# list can be change easily...\n",
        "\n",
        "list[2]=250\n",
        "print(\"afte update list\",list)\n"
      ],
      "metadata": {
        "colab": {
          "base_uri": "https://localhost:8080/"
        },
        "id": "LiqL23kFE-CK",
        "outputId": "7e620b86-a0cb-474a-8bb0-7d0ce06a9e9f"
      },
      "execution_count": null,
      "outputs": [
        {
          "output_type": "stream",
          "name": "stdout",
          "text": [
            "my original list is [101, 102, 103, 104]\n",
            "afte update list [101, 102, 250, 104]\n"
          ]
        }
      ]
    },
    {
      "cell_type": "code",
      "source": [
        "#tuple cannot changable ....\n",
        "\n",
        "tuple[2]=250\n",
        "print(\"afte update tuple\",tuple)"
      ],
      "metadata": {
        "colab": {
          "base_uri": "https://localhost:8080/",
          "height": 193
        },
        "id": "rbWV14VMFtWJ",
        "outputId": "51749a3b-1d14-4bc5-fec2-6e3ab2d8246a"
      },
      "execution_count": null,
      "outputs": [
        {
          "output_type": "error",
          "ename": "TypeError",
          "evalue": "'tuple' object does not support item assignment",
          "traceback": [
            "\u001b[0;31m---------------------------------------------------------------------------\u001b[0m",
            "\u001b[0;31mTypeError\u001b[0m                                 Traceback (most recent call last)",
            "\u001b[0;32m<ipython-input-30-75a4e263a1d3>\u001b[0m in \u001b[0;36m<cell line: 0>\u001b[0;34m()\u001b[0m\n\u001b[1;32m      1\u001b[0m \u001b[0;31m#tuple cannot changable ....\u001b[0m\u001b[0;34m\u001b[0m\u001b[0;34m\u001b[0m\u001b[0m\n\u001b[1;32m      2\u001b[0m \u001b[0;34m\u001b[0m\u001b[0m\n\u001b[0;32m----> 3\u001b[0;31m \u001b[0mtuple\u001b[0m\u001b[0;34m[\u001b[0m\u001b[0;36m2\u001b[0m\u001b[0;34m]\u001b[0m\u001b[0;34m=\u001b[0m\u001b[0;36m250\u001b[0m\u001b[0;34m\u001b[0m\u001b[0;34m\u001b[0m\u001b[0m\n\u001b[0m\u001b[1;32m      4\u001b[0m \u001b[0mprint\u001b[0m\u001b[0;34m(\u001b[0m\u001b[0;34m\"afte update tuple\"\u001b[0m\u001b[0;34m,\u001b[0m\u001b[0mtuple\u001b[0m\u001b[0;34m)\u001b[0m\u001b[0;34m\u001b[0m\u001b[0;34m\u001b[0m\u001b[0m\n",
            "\u001b[0;31mTypeError\u001b[0m: 'tuple' object does not support item assignment"
          ]
        }
      ]
    },
    {
      "cell_type": "markdown",
      "source": [
        "Question -6 Write a function to demonstrate the behavior of mutable and immutable arguments."
      ],
      "metadata": {
        "id": "G0B6O1iJHZrE"
      }
    },
    {
      "cell_type": "code",
      "source": [
        "def arg(list, int):\n",
        "  list.append(4)\n",
        "  int=int+4\n",
        "\n",
        "list = [1,2,3]\n",
        "int = 5\n",
        "\n",
        "arg(list,int)\n",
        "print(\"list after function call :\", list)  #mutable, will change\n",
        "print(\"Int after function call :\", int)    #immutable , won't change"
      ],
      "metadata": {
        "colab": {
          "base_uri": "https://localhost:8080/"
        },
        "id": "6QerjeDdHeLw",
        "outputId": "85ef55d8-07d3-4259-99ce-f81b9c1666b7"
      },
      "execution_count": null,
      "outputs": [
        {
          "output_type": "stream",
          "name": "stdout",
          "text": [
            "list after function call : [1, 2, 3, 4]\n",
            "Int after function call : 5\n"
          ]
        }
      ]
    },
    {
      "cell_type": "markdown",
      "source": [
        "Question -7 Write a program that performs basic arithmetic operations on two user-input numbers."
      ],
      "metadata": {
        "id": "U1M1x6_AHZo6"
      }
    },
    {
      "cell_type": "code",
      "source": [
        "a=int(input(\"enter the number of a \"))\n",
        "b=int(input(\"enter the number of b \"))\n",
        "\n",
        "#addition\n",
        "print(\"additon of a+b =\",a+b)\n",
        "\n",
        "#substraction\n",
        "print(\"substraction of a-b =\",a-b)\n",
        "\n",
        "#multipication\n",
        "print(\"multipicaton of a*b =\",a*b)\n",
        "\n",
        "#division\n",
        "print(\"division of a/b =\",a/b)\n",
        "\n"
      ],
      "metadata": {
        "colab": {
          "base_uri": "https://localhost:8080/"
        },
        "id": "LSmgQwOJKNrw",
        "outputId": "d020e0d7-5c18-444d-bff2-2fd52883e56b"
      },
      "execution_count": null,
      "outputs": [
        {
          "output_type": "stream",
          "name": "stdout",
          "text": [
            "enter the number of a 100\n",
            "enter the number of b 50\n",
            "additon of a+b = 150\n",
            "substraction of a-b = 50\n",
            "multipicaton of a*b = 5000\n",
            "division of a/b = 2.0\n"
          ]
        }
      ]
    },
    {
      "cell_type": "markdown",
      "source": [
        "Question -8 Write a program to demonstrate the use of logical operators."
      ],
      "metadata": {
        "id": "fDaB9fxxOXg8"
      }
    },
    {
      "cell_type": "code",
      "source": [
        "a = True\n",
        "b = False\n",
        "print(\"a AND b:\", a and b)\n",
        "print(\"a OR b:\", a or b)\n",
        "print(\"a NOT b\", not a)"
      ],
      "metadata": {
        "colab": {
          "base_uri": "https://localhost:8080/"
        },
        "id": "94gBuIrUKgp9",
        "outputId": "f9900ac6-e778-474d-fff8-c6151700bd6e"
      },
      "execution_count": null,
      "outputs": [
        {
          "output_type": "stream",
          "name": "stdout",
          "text": [
            "a AND b: False\n",
            "a OR b: True\n",
            "a NOT b False\n"
          ]
        }
      ]
    },
    {
      "cell_type": "markdown",
      "source": [
        "Question -9 Write a Python program to convert user input from string to integer, float, and boolean types."
      ],
      "metadata": {
        "id": "En5pMUL-Otcd"
      }
    },
    {
      "cell_type": "code",
      "source": [
        "a=input(\"enter the value : \")\n",
        "print(type(a))\n",
        "\n",
        "int_value=int(a)\n",
        "float_value=float(a)\n",
        "boolean_value=bool(a)\n",
        "\n",
        "print(f\"{a} value is convert to integer value\",int_value)\n",
        "print(type(int_value)) #class type check\n",
        "print(f\"{a} value is convert to float value\",float_value)\n",
        "print(type(float_value)) #class type check\n",
        "print(f\"{a} value is convert to boolean value\",boolean_value)\n",
        "print(type(boolean_value)) #class type check"
      ],
      "metadata": {
        "colab": {
          "base_uri": "https://localhost:8080/"
        },
        "id": "mFKIVr0wOrKo",
        "outputId": "00c033b1-c45e-44cd-a753-2955fd7aa0aa"
      },
      "execution_count": null,
      "outputs": [
        {
          "output_type": "stream",
          "name": "stdout",
          "text": [
            "enter the value : 101\n",
            "<class 'str'>\n",
            "101 value is convert to integer value 101\n",
            "<class 'int'>\n",
            "101 value is convert to float value 101.0\n",
            "<class 'float'>\n",
            "101 value is convert to boolean value True\n",
            "<class 'bool'>\n"
          ]
        }
      ]
    },
    {
      "cell_type": "markdown",
      "source": [
        "Question -10 Write code to demonstrate type casting with list elements."
      ],
      "metadata": {
        "id": "1CsCyhrHS6JP"
      }
    },
    {
      "cell_type": "code",
      "source": [
        "string_list=[\"1\",\"2\",\"3\"]\n",
        "print(\"original list :\",string_list)\n",
        "#after the typecasting....\n",
        "\n",
        "integer_list=[int(item) for item in string_list]\n",
        "print(\"after typecasting :\",integer_list)"
      ],
      "metadata": {
        "colab": {
          "base_uri": "https://localhost:8080/"
        },
        "id": "8eFo1w7RPQqX",
        "outputId": "a9b0fc67-e145-4133-a998-c6a533b8ea48"
      },
      "execution_count": null,
      "outputs": [
        {
          "output_type": "stream",
          "name": "stdout",
          "text": [
            "original list : ['1', '2', '3']\n",
            "after typecasting : [1, 2, 3]\n"
          ]
        }
      ]
    },
    {
      "cell_type": "markdown",
      "source": [
        "Question -11 Write a program that checks if a number is positive, negative, or zero."
      ],
      "metadata": {
        "id": "YarNd13jfqv7"
      }
    },
    {
      "cell_type": "code",
      "source": [
        "a=int(input(\"enter the number :\"))\n",
        "if a < 0:\n",
        "  print(\"numebr is a negative\")\n",
        "elif a > 0:\n",
        "  print(\"number is a positive\")\n",
        "else:\n",
        "  print(\"the number is a zero\")"
      ],
      "metadata": {
        "id": "jNsvgo12TgGW",
        "colab": {
          "base_uri": "https://localhost:8080/"
        },
        "outputId": "2f82ba28-2c28-48be-d969-9c669e196673"
      },
      "execution_count": 44,
      "outputs": [
        {
          "output_type": "stream",
          "name": "stdout",
          "text": [
            "enter the number :-49\n",
            "numebr is a negative\n"
          ]
        }
      ]
    },
    {
      "cell_type": "markdown",
      "source": [
        "Question -12 Write a for loop to print numbers from 1 to 10."
      ],
      "metadata": {
        "id": "iXBULOIogspY"
      }
    },
    {
      "cell_type": "code",
      "source": [
        "for i in range(1,11):\n",
        "  print(i,end=\" \")"
      ],
      "metadata": {
        "colab": {
          "base_uri": "https://localhost:8080/"
        },
        "id": "31XnAIpeghHN",
        "outputId": "f85eebf5-156a-4498-f5b1-179527831047"
      },
      "execution_count": 51,
      "outputs": [
        {
          "output_type": "stream",
          "name": "stdout",
          "text": [
            "1 2 3 4 5 6 7 8 9 10 "
          ]
        }
      ]
    },
    {
      "cell_type": "markdown",
      "source": [
        "Question -13 Write a Python program to find the sum of all even numbers between 1 and 50."
      ],
      "metadata": {
        "id": "AlCNnYALhuCa"
      }
    },
    {
      "cell_type": "code",
      "source": [
        "total=0\n",
        "for number in range(2,51,2):\n",
        "  total+=number\n",
        "print(\"the sum of even number is \",total)"
      ],
      "metadata": {
        "colab": {
          "base_uri": "https://localhost:8080/"
        },
        "id": "eCLBChlGhPE6",
        "outputId": "4fbc412f-1758-48d3-9561-a9aff219f59c"
      },
      "execution_count": 56,
      "outputs": [
        {
          "output_type": "stream",
          "name": "stdout",
          "text": [
            "the sum of even number is  650\n"
          ]
        }
      ]
    },
    {
      "cell_type": "markdown",
      "source": [
        "Question -14 Write a program to reverse a string using a while loop."
      ],
      "metadata": {
        "id": "JpXNcmgIkMZm"
      }
    },
    {
      "cell_type": "code",
      "source": [
        "text = input(\"Enter the text: \")\n",
        "reversed_text = \"\"\n",
        "index = len(text)-1\n",
        "\n",
        "while index>=0:\n",
        "  reversed_text += text[index]\n",
        "  index -= 1\n",
        "print(\"reversed text:\", reversed_text)"
      ],
      "metadata": {
        "colab": {
          "base_uri": "https://localhost:8080/"
        },
        "id": "X3skB8SOjvsC",
        "outputId": "5a5f2750-0f3c-49f8-cf72-47d7d96d44b1"
      },
      "execution_count": 68,
      "outputs": [
        {
          "output_type": "stream",
          "name": "stdout",
          "text": [
            "Enter the text: parth \n",
            "reversed text:  htrap\n"
          ]
        }
      ]
    },
    {
      "cell_type": "markdown",
      "source": [
        "Question -15 Write a Python program to calculate the factorial of a number provided by the user using a while loop."
      ],
      "metadata": {
        "id": "VvoULEactyEo"
      }
    },
    {
      "cell_type": "code",
      "source": [
        "number = int(input(\"Enter a only positive integer number : \"))\n",
        "\n",
        "if number < 0:\n",
        "  print(\"Factorial is not defined for negative numbers \")\n",
        "elif number ==0:\n",
        "  print(\"The factorial of 0 is 1 \")\n",
        "else:\n",
        "  factorial = 1\n",
        "  i = number\n",
        "\n",
        "  while i>0:\n",
        "    factorial = factorial * i\n",
        "    i=i-1\n",
        "\n",
        "  print(f\"The factorial of {number} is {factorial} \")"
      ],
      "metadata": {
        "colab": {
          "base_uri": "https://localhost:8080/"
        },
        "id": "EYve5o0JtwxC",
        "outputId": "20098685-0488-419d-a537-db6fa9034032"
      },
      "execution_count": 74,
      "outputs": [
        {
          "output_type": "stream",
          "name": "stdout",
          "text": [
            "Enter a only positive integer number : 5\n",
            "The factorial of 5 is 120 \n"
          ]
        }
      ]
    },
    {
      "cell_type": "code",
      "source": [],
      "metadata": {
        "id": "zjMZ6pLSuBrV"
      },
      "execution_count": 72,
      "outputs": []
    }
  ]
}