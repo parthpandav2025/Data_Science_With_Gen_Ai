{
  "nbformat": 4,
  "nbformat_minor": 0,
  "metadata": {
    "colab": {
      "provenance": []
    },
    "kernelspec": {
      "name": "python3",
      "display_name": "Python 3"
    },
    "language_info": {
      "name": "python"
    }
  },
  "cells": [
    {
      "cell_type": "markdown",
      "source": [
        "# Data Types and Structures Questions ↪\n",
        "\n",
        "\n"
      ],
      "metadata": {
        "id": "O14C6TbksVNG"
      }
    },
    {
      "cell_type": "markdown",
      "source": [
        "#Theory Questions Answers ▶"
      ],
      "metadata": {
        "id": "LZIefxtE5Atq"
      }
    },
    {
      "cell_type": "markdown",
      "source": [
        "Question- 1.  What are data structures, and why are they important ?\n",
        "- Data structures are specialized formats for organizing, storing, and manipulating data efficiently in a computer.\n",
        "\n",
        "  - They're important because:\n",
        "\n",
        "    - They provide efficient ways to access and modify data\n",
        "    - Different structures have different performance characteristics for various operations\n",
        "    - They help organize data in meaningful ways\n",
        "    - They're fundamental building blocks for algorithms and programs\n",
        "    - They can significantly impact the speed and efficiency of your code."
      ],
      "metadata": {
        "id": "gPjHsmZNslkz"
      }
    },
    {
      "cell_type": "markdown",
      "source": [
        "Question- 2 Explain the difference between mutable and immutable data types with examples ?\n",
        "- Mutable data types can be changed after creation:\n",
        "\n",
        "  -  Lists: my_list = [1, 2, 3] → my_list[0] = 99 (works)\n",
        "  -  Dictionaries: my_dict = {'a': 1} → my_dict['a'] = 2 (works)\n",
        "  -  Sets: my_set = {1, 2, 3} → my_set.add(4) (works)\n",
        "\n",
        "- Immutable data types cannot be changed after creation:\n",
        "\n",
        "  - Integers: x = 5 → cannot modify the value 5 itself\n",
        "  - Floats: y = 3.14 → cannot modify the value 3.14 itself\n",
        "  - Strings: s = \"hello\" → cannot modify individual characters\n",
        "  - Tuples: t = (1, 2, 3) → cannot modify elements after creation"
      ],
      "metadata": {
        "id": "rjfpjpMys5rr"
      }
    },
    {
      "cell_type": "markdown",
      "source": [
        "Question- 3 What are the main differences between lists and tuples in Python?\n",
        "- Mutability: Lists are mutable (can be changed), tuples are immutable (cannot be changed)\n",
        "- Syntax: Lists use square brackets [1, 2, 3], tuples use parentheses (1, 2, 3)\n",
        "- Performance: Tuples are slightly faster and use less memory\n",
        "Usage: Lists for collections that need to be modified, tuples for fixed collections\n",
        "- Methods: Lists have more built-in methods (append, extend, etc.)"
      ],
      "metadata": {
        "id": "x6vnwmt-tepu"
      }
    },
    {
      "cell_type": "markdown",
      "source": [
        "Question- 4 Describe how dictionaries store data ?\n",
        "- Dictionaries store data as key-value pairs using a hash table implementation:\n",
        "\n",
        "- Each key must be unique and immutable (like strings, numbers, or tuples)\n",
        "- Values can be any data type and mutable\n",
        "- Items are not stored in any specific order (in Python 3.7+ insertion order is preserved)\n",
        "- Under the hood, dictionaries use a hash function to compute an index where values are stored\n",
        "- This provides very fast O(1) lookup time regardless of dictionary size."
      ],
      "metadata": {
        "id": "-W2-jRFNt2m8"
      }
    },
    {
      "cell_type": "markdown",
      "source": [
        "Question- 5 Why might you use a set instead of a list in Python?\n",
        "You might use a set instead of a list when ?\n",
        "\n",
        "- You need to ensure all elements are unique (sets automatically eliminate duplicates)\n",
        "- You need to perform frequent membership testing ('in' operations are much faster in sets)\n",
        "- You need to perform mathematical set operations (union, intersection, difference)\n",
        "- Order of elements is not important\n",
        "- You need faster add/remove operations for large collections"
      ],
      "metadata": {
        "id": "t7qSQXATuLep"
      }
    },
    {
      "cell_type": "markdown",
      "source": [
        "Question- 6  What is a string in Python, and how is it different from a list?\n",
        "- A string in Python is an immutable sequence of characters. Differences from lists:\n",
        "\n",
        "- Strings can only contain characters, while lists can contain any data type\n",
        "- Strings are immutable (cannot be changed), lists are mutable\n",
        "- Strings have specialized methods for text processing (split, replace, etc.)\n",
        "- Strings use different syntax: \"hello\" vs ['h', 'e', 'l', 'l', 'o']"
      ],
      "metadata": {
        "id": "z_vYy8yJuhKk"
      }
    },
    {
      "cell_type": "markdown",
      "source": [
        "Question- 7 How do tuples ensure data integrity in Python?\n",
        "- Tuples ensure data integrity through ?\n",
        "\n",
        "  - Immutability: Once created, tuple contents cannot be modified\n",
        "  - This prevents accidental changes to data that should remain constant\n",
        "  - Immutability allows tuples to be used as dictionary keys\n",
        "  - They can be used to guarantee that data won't change throughout program execution\n",
        "  - Their immutability makes them more memory efficient and slightly faster than lists"
      ],
      "metadata": {
        "id": "JyCPohznup7T"
      }
    },
    {
      "cell_type": "markdown",
      "source": [
        "Question- 8 What is a hash table, and how does it relate to dictionaries in Python?\n",
        "- A hash table is a data structure that maps keys to values using a hash function. In Python:\n",
        "\n",
        "  - Dictionaries are implemented using hash tables\n",
        "  - The hash function converts keys into array indices for storage\n",
        "  - This allows for O(1) average time complexity for lookups, insertions, and deletions\n",
        "  - When you access a key, Python hashes it to find the corresponding value quickly\n",
        "  - Collisions (when different keys produce the same hash) are handled internally-"
      ],
      "metadata": {
        "id": "pVk7zfA7u4Co"
      }
    },
    {
      "cell_type": "markdown",
      "source": [
        "Question- 9 Can lists contain different data types in Python?\n",
        "- Yes! Lists in Python can contain different data types, including:\n",
        "\n",
        "  - Numbers (integers, floats)\n",
        "  - Strings\n",
        "  - Booleans\n",
        "  - Other lists (nested lists)\n",
        "  - Tuples, dictionaries, sets\n",
        "  - Custom objects\n",
        "- Example: mixed_list = [1, \"hello\", True, [2, 3], {\"name\": \"Alice\"}]\n",
        "\n"
      ],
      "metadata": {
        "id": "pL4P50PmvKdL"
      }
    },
    {
      "cell_type": "markdown",
      "source": [
        "Question- 10 Explain why strings are immutable in Python ?\n",
        "- Strings are immutable in Python for several reasons:\n",
        "\n",
        "  - It allows Python to optimize memory usage by reusing string objects\n",
        "  - It ensures security since strings can't be modified unexpectedly\n",
        "  - It allows strings to be used as dictionary keys (which must be immutable)\n",
        "  - It simplifies string handling and prevents unexpected side effects\n",
        "  - It enables Python to implement certain optimizations like string interning"
      ],
      "metadata": {
        "id": "Y0DvRDXevbUI"
      }
    },
    {
      "cell_type": "markdown",
      "source": [
        "Question- 11 What advantages do dictionaries offer over lists for certain tasks?\n",
        "- Dictionaries offer several advantages:\n",
        "\n",
        "  - Fast lookups by key (O(1) vs O(n) for lists)\n",
        "  - Semantic clarity with named keys instead of numeric indices\n",
        "  - Efficient for tasks requiring frequent lookups, insertions, and deletions\n",
        "  - Better for representing structured data with named fields\n",
        "  - Can store heterogeneous data with meaningful labels\n",
        "  - No need to know the position of an item to retrieve it"
      ],
      "metadata": {
        "id": "vDmn-MxTvvG1"
      }
    },
    {
      "cell_type": "markdown",
      "source": [
        "Question- 12 Describe a scenario where using a tuple would be preferable over a list ?\n",
        "- Tuples are preferable when:\n",
        "\n",
        "  - Representing fixed data like coordinates: point = (x, y, z)\n",
        "  - Returning multiple values from a function\n",
        "  - Using as dictionary keys (lists can't be keys)\n",
        "  - Storing data that shouldn't change (like database records)\n",
        "  - Working with data that has a fixed structure (like RGB values)\n",
        "  - When you want to enforce immutability for data security."
      ],
      "metadata": {
        "id": "VLR13J6Sv_WB"
      }
    },
    {
      "cell_type": "markdown",
      "source": [
        "Question- 13 How do sets handle duplicate values in Python?\n",
        "- Sets automatically eliminate duplicates:\n",
        "\n",
        "  - When you create a set or add elements to it, duplicates are silently ignored\n",
        "  - Only one instance of each value is stored\n",
        "  - This happens because sets use hash tables internally\n",
        "  - When you convert another collection to a set, duplicates are removed\n",
        "- Example: {1, 2, 2, 3, 3, 3} becomes {1, 2, 3}"
      ],
      "metadata": {
        "id": "hKlwEFzdwTCa"
      }
    },
    {
      "cell_type": "markdown",
      "source": [
        "Question- 14  How does the \"in\" keyword work differently for lists and dictionaries?\n",
        "- The 'in' keyword works differently because:\n",
        "\n",
        "  - For lists: 'in' searches sequentially through all elements (O(n) time complexity)\n",
        "  - For dictionaries: 'in' checks if a key exists using hashing (O(1) time complexity)\n",
        "  - For lists, 'in' gets slower as the list grows\n",
        "  - For dictionaries, 'in' remains fast regardless of size\n",
        "  - For dictionaries, 'in' only checks keys, not values (use value in dict.values() for values)"
      ],
      "metadata": {
        "id": "VUyfq10Lwf_X"
      }
    },
    {
      "cell_type": "markdown",
      "source": [
        "Question- 15 Can you modify the elements of a tuple? Explain why or why not ?\n",
        "- You cannot modify the elements of a tuple directly because tuples are immutable.\n",
        "- However:\n",
        "\n",
        "  - You cannot add, remove, or replace elements in a tuple\n",
        "  - You cannot assign to individual positions: my_tuple[0] = 5 will raise an error\n",
        "  - If a tuple contains mutable objects (like lists), those objects can be modified\n",
        "- Example: t = ([1, 2], 3) → t[0].append(4) works, but t[0] = [5, 6] doesn't"
      ],
      "metadata": {
        "id": "r7zfEu3lwsuG"
      }
    },
    {
      "cell_type": "markdown",
      "source": [
        "Question- 16 What is a nested dictionary, and give an example of its use case?\n",
        "- A nested dictionary is a dictionary where some values are themselves dictionaries. This creates a hierarchical structure that can represent complex data relationships."
      ],
      "metadata": {
        "id": "rSvldM1lxE-P"
      }
    },
    {
      "cell_type": "code",
      "source": [
        "#Example:\n",
        "student_data = {\n",
        "    \"Alice\": {\n",
        "        \"age\": 19,\n",
        "        \"major\": \"Data Science\",\n",
        "        \"grades\": {\"math\": 70, \"programming\": 100}\n",
        "    },\n",
        "    \"Bob\": {\n",
        "        \"age\": 23,\n",
        "        \"major\": \"Physics\",\n",
        "        \"grades\": {\"math\": 75, \"physics\": 98}\n",
        "    }\n",
        "}\n",
        "student_data"
      ],
      "metadata": {
        "colab": {
          "base_uri": "https://localhost:8080/"
        },
        "id": "pQqp6l6sxSSw",
        "outputId": "7783667f-5951-4b69-e1f2-8aea1580fc33"
      },
      "execution_count": 2,
      "outputs": [
        {
          "output_type": "execute_result",
          "data": {
            "text/plain": [
              "{'Alice': {'age': 19,\n",
              "  'major': 'Data Science',\n",
              "  'grades': {'math': 70, 'programming': 100}},\n",
              " 'Bob': {'age': 23, 'major': 'Physics', 'grades': {'math': 75, 'physics': 98}}}"
            ]
          },
          "metadata": {},
          "execution_count": 2
        }
      ]
    },
    {
      "cell_type": "markdown",
      "source": [
        "Use cases include:\n",
        "\n",
        "- Representing hierarchical data like organizational structures\n",
        "- Storing complex configurations with multiple levels\n",
        "- Managing relational data like users with multiple attributes and sub-attributes\n",
        "- JSON-like data structures for APIs and web applications"
      ],
      "metadata": {
        "id": "ORCe_WB0xumy"
      }
    },
    {
      "cell_type": "markdown",
      "source": [
        "Question- 17  Describe the time complexity of accessing elements in a dictionary ?\n",
        "- Accessing elements in a dictionary has:\n",
        "\n",
        "  - Average case: O(1) - constant time\n",
        "  - Worst case: O(n) - linear time (rare, happens with many hash collisions)\n",
        "- This means that regardless of the dictionary size, lookups are typically instantaneous, making dictionaries ideal for applications requiring fast data retrieval by key."
      ],
      "metadata": {
        "id": "uKlNuOKjyFJE"
      }
    },
    {
      "cell_type": "markdown",
      "source": [
        "Question- 18 In what situations are lists preferred over dictionaries?\n",
        "- Lists :-  \n",
        "\n",
        "  - Order matters and you need to maintain sequence\n",
        "  - You need to access elements by position (index) rather than by name\n",
        "  - You need to perform operations that rely on order (sorting, reversing)\n",
        "  - You need to store duplicate values\n",
        "  - Memory efficiency is important for simple sequential data\n",
        "  - You need to perform operations on all elements (iteration) frequently\n",
        "  - The data naturally forms a sequence rather than key-value pairs"
      ],
      "metadata": {
        "id": "HZrAKmzyyOkU"
      }
    },
    {
      "cell_type": "markdown",
      "source": [
        "Question- 19 Why are dictionaries considered unordered, and how does that affect data retrieval?\n",
        "- Traditionally, dictionaries were considered unordered because:\n",
        "\n",
        "  - The internal hash table implementation didn't guarantee position\n",
        "  - The order could change between Python versions or implementations\n",
        "  - Insertion order wasn't preserved\n",
        "- However, since Python 3.7, dictionaries do preserve insertion order as an implementation detail, and in Python 3.8+ this is a language guarantee.\n",
        "\n",
        "- This affects data retrieval because:\n",
        "\n",
        "  - You should not rely on order when using dictionaries (especially in older Python versions)\n",
        "  - You should access items by key, not position\n",
        "  - If order is critical, consider using OrderedDict (though regular dicts now maintain order)"
      ],
      "metadata": {
        "id": "MqacFBrCyZON"
      }
    },
    {
      "cell_type": "markdown",
      "source": [
        "Question- 20 Explain the difference between a list and a dictionary in terms of data retrieval:\n",
        "- Lists vs dictionaries for data retrieval:\n",
        "\n",
        "  - Lists: Retrieve by index (position) using square brackets: my_list[0]\n",
        "  - Dictionaries: Retrieve by key using square brackets: my_dict[\"key\"]\n",
        "  - List retrieval is O(1) if you know the index, but searching is O(n)\n",
        "  - Dictionary retrieval is O(1) regardless of size (average case)\n",
        "  - Lists require knowing the position of data\n",
        "  - Dictionaries require knowing the key but not the position\n",
        "  - Lists must be searched sequentially to find a value\n",
        "  - ictionaries can retrieve values directly using their keys"
      ],
      "metadata": {
        "id": "qK-uJ17wzAem"
      }
    },
    {
      "cell_type": "markdown",
      "source": [
        "#Practical Questions Answers ▶\n",
        "\n"
      ],
      "metadata": {
        "id": "BEsNexfDzQmR"
      }
    },
    {
      "cell_type": "markdown",
      "source": [
        "Question -1 Write a code to create a string with your name and print it ?"
      ],
      "metadata": {
        "id": "ZeV3hFZSzyF_"
      }
    },
    {
      "cell_type": "code",
      "source": [
        "my_name = \"parth boss\"\n",
        "print(my_name)"
      ],
      "metadata": {
        "colab": {
          "base_uri": "https://localhost:8080/"
        },
        "id": "8zyCXSJVy-Xq",
        "outputId": "9238c562-d58b-4d7d-94a4-da016821a3a4"
      },
      "execution_count": 3,
      "outputs": [
        {
          "output_type": "stream",
          "name": "stdout",
          "text": [
            "parth boss\n"
          ]
        }
      ]
    },
    {
      "cell_type": "markdown",
      "source": [
        "Question -2 Write a code to find the length of the string \"Hello World\":"
      ],
      "metadata": {
        "id": "JDEQwKQDz78c"
      }
    },
    {
      "cell_type": "code",
      "source": [
        "s = \"Hello World\"\n",
        "length = len(s)\n",
        "print(length)\n"
      ],
      "metadata": {
        "colab": {
          "base_uri": "https://localhost:8080/"
        },
        "id": "c0rpy0caz6vp",
        "outputId": "b2143147-5ec8-4385-80d0-c9db006d810f"
      },
      "execution_count": 4,
      "outputs": [
        {
          "output_type": "stream",
          "name": "stdout",
          "text": [
            "11\n"
          ]
        }
      ]
    },
    {
      "cell_type": "markdown",
      "source": [
        "Question -3 Write a code to slice the first 3 characters from the string \"Python Programming\":"
      ],
      "metadata": {
        "id": "bw7fnFdS0ibi"
      }
    },
    {
      "cell_type": "code",
      "source": [
        "text = \"Python Programming\"\n",
        "first_three = text[:3]\n",
        "print(first_three)"
      ],
      "metadata": {
        "colab": {
          "base_uri": "https://localhost:8080/"
        },
        "id": "_aRP9Url0dS7",
        "outputId": "993c9243-4a1e-4fdc-9cbf-a7bef429c571"
      },
      "execution_count": 5,
      "outputs": [
        {
          "output_type": "stream",
          "name": "stdout",
          "text": [
            "Pyt\n"
          ]
        }
      ]
    },
    {
      "cell_type": "markdown",
      "source": [
        "Question- 4 Write a code to convert the string \"hello\" to uppercase:"
      ],
      "metadata": {
        "id": "9xJ5iKJ80sSj"
      }
    },
    {
      "cell_type": "code",
      "source": [
        "text = \"hello\"\n",
        "uppercase_text = text.upper()\n",
        "print(uppercase_text)"
      ],
      "metadata": {
        "colab": {
          "base_uri": "https://localhost:8080/"
        },
        "id": "-bLnZFZk0q8S",
        "outputId": "f1542a33-ee51-4eaa-d73a-1f71eff6b7a0"
      },
      "execution_count": 6,
      "outputs": [
        {
          "output_type": "stream",
          "name": "stdout",
          "text": [
            "HELLO\n"
          ]
        }
      ]
    },
    {
      "cell_type": "markdown",
      "source": [
        "Question -5 Write a code to replace the word \"apple\" with \"orange\" in the string \"I like apple\":"
      ],
      "metadata": {
        "id": "wTfvaIAK03Ts"
      }
    },
    {
      "cell_type": "code",
      "source": [
        "text = \"I like apple\"\n",
        "new_text = text.replace(\"apple\", \"orange\")\n",
        "print(new_text)"
      ],
      "metadata": {
        "colab": {
          "base_uri": "https://localhost:8080/"
        },
        "id": "R-LmYaxt0yJd",
        "outputId": "db0affdc-5130-484e-aa7d-0c4feb2571a4"
      },
      "execution_count": 7,
      "outputs": [
        {
          "output_type": "stream",
          "name": "stdout",
          "text": [
            "I like orange\n"
          ]
        }
      ]
    },
    {
      "cell_type": "markdown",
      "source": [
        "Question- 6 Write a code to create a list with numbers 1 to 5 and print it:"
      ],
      "metadata": {
        "id": "7Z6Bc_C-0_D2"
      }
    },
    {
      "cell_type": "code",
      "source": [
        "numbers = [1, 2, 3, 4, 5]\n",
        "print(numbers)\n",
        "\n",
        "# Alternative way to create the list\n",
        "numbers = list(range(1, 6))\n",
        "print(numbers)"
      ],
      "metadata": {
        "colab": {
          "base_uri": "https://localhost:8080/"
        },
        "id": "d700lo6G070i",
        "outputId": "ed661725-81b0-413e-eac7-32c5c0bc5f1e"
      },
      "execution_count": 8,
      "outputs": [
        {
          "output_type": "stream",
          "name": "stdout",
          "text": [
            "[1, 2, 3, 4, 5]\n",
            "[1, 2, 3, 4, 5]\n"
          ]
        }
      ]
    },
    {
      "cell_type": "markdown",
      "source": [
        "Question -7 Write a code to append the number 10 to the list [1, 2, 3, 4]:"
      ],
      "metadata": {
        "id": "bTRMiXbs1IRk"
      }
    },
    {
      "cell_type": "code",
      "source": [
        "numbers = [1, 2, 3, 4]\n",
        "numbers.append(10)\n",
        "print(numbers)"
      ],
      "metadata": {
        "colab": {
          "base_uri": "https://localhost:8080/"
        },
        "id": "skASvHJI1EEX",
        "outputId": "6df3f913-414f-4b4a-c4ae-78e755eff763"
      },
      "execution_count": 9,
      "outputs": [
        {
          "output_type": "stream",
          "name": "stdout",
          "text": [
            "[1, 2, 3, 4, 10]\n"
          ]
        }
      ]
    },
    {
      "cell_type": "markdown",
      "source": [
        "Question -8 Write a code to remove the number 3 from the list [1, 2, 3, 4, 5]."
      ],
      "metadata": {
        "id": "a8_pPycc1Qq3"
      }
    },
    {
      "cell_type": "code",
      "source": [
        "numbers = [1, 2, 3, 4, 5]\n",
        "numbers.remove(3)\n",
        "print(numbers)\n",
        "\n",
        "# Alternative way\n",
        "numbers = [1, 2, 3, 4, 5]\n",
        "index = numbers.index(3)\n",
        "del numbers[index]\n",
        "print(numbers)"
      ],
      "metadata": {
        "colab": {
          "base_uri": "https://localhost:8080/"
        },
        "id": "W9SDVtoT1POu",
        "outputId": "e1e42e6a-1ae0-4836-e60d-50c6233ba262"
      },
      "execution_count": 10,
      "outputs": [
        {
          "output_type": "stream",
          "name": "stdout",
          "text": [
            "[1, 2, 4, 5]\n",
            "[1, 2, 4, 5]\n"
          ]
        }
      ]
    },
    {
      "cell_type": "markdown",
      "source": [
        "Question -9 Write a code to access the second element in the list ['a', 'b', 'c', 'd']:"
      ],
      "metadata": {
        "id": "GT9KAzK31cRn"
      }
    },
    {
      "cell_type": "code",
      "source": [
        "letters = ['a', 'b', 'c', 'd']\n",
        "second_element = letters[1]\n",
        "print(second_element)"
      ],
      "metadata": {
        "colab": {
          "base_uri": "https://localhost:8080/"
        },
        "id": "H8_whQmm1V7n",
        "outputId": "9e96c101-d9af-4d97-e447-cf2bae85c6a1"
      },
      "execution_count": 11,
      "outputs": [
        {
          "output_type": "stream",
          "name": "stdout",
          "text": [
            "b\n"
          ]
        }
      ]
    },
    {
      "cell_type": "markdown",
      "source": [
        "Question- 10 Write a code to reverse the list [10, 20, 30, 40, 50]."
      ],
      "metadata": {
        "id": "BlyoyuuT1sdp"
      }
    },
    {
      "cell_type": "code",
      "source": [
        "numbers = [10, 20, 30, 40, 50]\n",
        "numbers.reverse()\n",
        "print(numbers)\n",
        "\n",
        "# Alternative way\n",
        "numbers = [10, 20, 30, 40, 50]\n",
        "reversed_numbers = numbers[::-1]  #Slicing\n",
        "print(reversed_numbers)"
      ],
      "metadata": {
        "colab": {
          "base_uri": "https://localhost:8080/"
        },
        "id": "dKJ6UlRF1kva",
        "outputId": "71477993-41aa-4de4-8e01-89df6f7deca7"
      },
      "execution_count": 12,
      "outputs": [
        {
          "output_type": "stream",
          "name": "stdout",
          "text": [
            "[50, 40, 30, 20, 10]\n",
            "[50, 40, 30, 20, 10]\n"
          ]
        }
      ]
    },
    {
      "cell_type": "markdown",
      "source": [
        "Question- 11 Write a code to create a tuple with the elements 100, 200, 300 and print it:"
      ],
      "metadata": {
        "id": "bGzMH2iU13V5"
      }
    },
    {
      "cell_type": "code",
      "source": [
        "my_tuple = (100, 200, 300)\n",
        "print(my_tuple)\n",
        "\n",
        "\n",
        "my_tuple = 100, 200, 300  # Parentheses are optional\n",
        "print(my_tuple)\n"
      ],
      "metadata": {
        "colab": {
          "base_uri": "https://localhost:8080/"
        },
        "id": "0GXEqH601wzn",
        "outputId": "7bd25e74-b56f-47f0-ba1d-f3a258f06cc9"
      },
      "execution_count": 14,
      "outputs": [
        {
          "output_type": "stream",
          "name": "stdout",
          "text": [
            "(100, 200, 300)\n",
            "(100, 200, 300)\n"
          ]
        }
      ]
    },
    {
      "cell_type": "markdown",
      "source": [
        "Question- 12 Write a code to access the second-to-last element of the tuple ('red', 'green', 'blue', 'yellow'):"
      ],
      "metadata": {
        "id": "f8VVzv-k2Con"
      }
    },
    {
      "cell_type": "code",
      "source": [
        "colors = ('red', 'green', 'blue', 'yellow')\n",
        "second_to_last = colors[-2]\n",
        "print(second_to_last)"
      ],
      "metadata": {
        "colab": {
          "base_uri": "https://localhost:8080/"
        },
        "id": "F8Kajte518mi",
        "outputId": "96d8f45c-f4cb-4586-e74f-93feaa4541e4"
      },
      "execution_count": 15,
      "outputs": [
        {
          "output_type": "stream",
          "name": "stdout",
          "text": [
            "blue\n"
          ]
        }
      ]
    },
    {
      "cell_type": "markdown",
      "source": [
        "Question- 13 Write a code to find the minimum number in the tuple (10, 20, 5, 15):"
      ],
      "metadata": {
        "id": "43XzyJ6f2KrO"
      }
    },
    {
      "cell_type": "code",
      "source": [
        "numbers = (10, 20, 5, 15)\n",
        "min_number = min(numbers)\n",
        "print(min_number)"
      ],
      "metadata": {
        "colab": {
          "base_uri": "https://localhost:8080/"
        },
        "id": "1rR2LbfN2Jww",
        "outputId": "f1c7ddf2-a8fc-4da7-8042-124d8a4dd790"
      },
      "execution_count": 16,
      "outputs": [
        {
          "output_type": "stream",
          "name": "stdout",
          "text": [
            "5\n"
          ]
        }
      ]
    },
    {
      "cell_type": "markdown",
      "source": [
        "Question- 14 Write a code to find the index of the element \"cat\" in the tuple ('dog', 'cat', 'rabbit'):"
      ],
      "metadata": {
        "id": "Lsr9QZYN2Q-n"
      }
    },
    {
      "cell_type": "code",
      "source": [
        "animals = ('dog', 'cat', 'rabbit')\n",
        "cat_index = animals.index('cat')\n",
        "print(cat_index)"
      ],
      "metadata": {
        "colab": {
          "base_uri": "https://localhost:8080/"
        },
        "id": "Ptl1iCpU2QQS",
        "outputId": "5dc0b67b-1761-47ae-adff-418243d53e22"
      },
      "execution_count": 17,
      "outputs": [
        {
          "output_type": "stream",
          "name": "stdout",
          "text": [
            "1\n"
          ]
        }
      ]
    },
    {
      "cell_type": "markdown",
      "source": [
        "Questiion- 15 Write a code to create a tuple containing three different fruits and check if \"kiwi\" is in it:"
      ],
      "metadata": {
        "id": "54dTq8jX2YBb"
      }
    },
    {
      "cell_type": "code",
      "source": [
        "fruits = ('apple', 'banana', 'orange')\n",
        "is_kiwi_present = 'kiwi' in fruits\n",
        "print(is_kiwi_present)"
      ],
      "metadata": {
        "colab": {
          "base_uri": "https://localhost:8080/"
        },
        "id": "RGODSPv52XWQ",
        "outputId": "031a15d7-893b-48dd-8e72-5473ba2212a4"
      },
      "execution_count": 18,
      "outputs": [
        {
          "output_type": "stream",
          "name": "stdout",
          "text": [
            "False\n"
          ]
        }
      ]
    },
    {
      "cell_type": "markdown",
      "source": [
        "Question- 16 Write a code to create a set with the elements 'a', 'b', 'c' and print it:"
      ],
      "metadata": {
        "id": "TMfgRubL2fe9"
      }
    },
    {
      "cell_type": "code",
      "source": [
        "my_set = {'a', 'b', 'c'}\n",
        "print(my_set)\n",
        "\n",
        "# Alternative way\n",
        "my_set = set(['a', 'b', 'c'])\n",
        "print(my_set)"
      ],
      "metadata": {
        "colab": {
          "base_uri": "https://localhost:8080/"
        },
        "id": "q12DSWUa2dU2",
        "outputId": "a37953ab-a3a3-4ade-da99-555442dbe1d9"
      },
      "execution_count": 19,
      "outputs": [
        {
          "output_type": "stream",
          "name": "stdout",
          "text": [
            "{'c', 'b', 'a'}\n",
            "{'c', 'b', 'a'}\n"
          ]
        }
      ]
    },
    {
      "cell_type": "markdown",
      "source": [
        "Question- 17 Write a code to clear all elements from the set {1, 2, 3, 4, 5}:"
      ],
      "metadata": {
        "id": "UC_7j6_82lrR"
      }
    },
    {
      "cell_type": "code",
      "source": [
        "my_set = {1, 2, 3, 4, 5}\n",
        "my_set.clear()\n",
        "print(my_set)"
      ],
      "metadata": {
        "colab": {
          "base_uri": "https://localhost:8080/"
        },
        "id": "egy_BX8I2kzc",
        "outputId": "db6c3ccc-2a8a-4ba5-b3dd-0b349afc1b39"
      },
      "execution_count": 20,
      "outputs": [
        {
          "output_type": "stream",
          "name": "stdout",
          "text": [
            "set()\n"
          ]
        }
      ]
    },
    {
      "cell_type": "markdown",
      "source": [
        "Question- 18  Write a code to remove the element 4 from the set {1, 2, 3, 4}:"
      ],
      "metadata": {
        "id": "Xr9wwbbz2sjG"
      }
    },
    {
      "cell_type": "code",
      "source": [
        "my_set = {1, 2, 3, 4}\n",
        "my_set.remove(4)\n",
        "print(my_set)\n",
        "\n",
        "# Alternative way (discard doesn't raise an error if element not found)\n",
        "my_set = {1, 2, 3, 4}\n",
        "my_set.discard(4)\n",
        "print(my_set)"
      ],
      "metadata": {
        "colab": {
          "base_uri": "https://localhost:8080/"
        },
        "id": "1EDT8ouk2r2K",
        "outputId": "ee1f9e45-d857-4083-9554-a15824df3af1"
      },
      "execution_count": 21,
      "outputs": [
        {
          "output_type": "stream",
          "name": "stdout",
          "text": [
            "{1, 2, 3}\n",
            "{1, 2, 3}\n"
          ]
        }
      ]
    },
    {
      "cell_type": "markdown",
      "source": [
        "Question- 19 Write a code to find the union of two sets {1, 2, 3} and {3, 4, 5}:"
      ],
      "metadata": {
        "id": "A3iTJr_s2zwB"
      }
    },
    {
      "cell_type": "code",
      "source": [
        "set1 = {1, 2, 3}\n",
        "set2 = {3, 4, 5}\n",
        "union_set = set1.union(set2)\n",
        "print(union_set)\n",
        "\n",
        "\n",
        "union_set = set1 | set2\n",
        "print(union_set)"
      ],
      "metadata": {
        "colab": {
          "base_uri": "https://localhost:8080/"
        },
        "id": "UWoa9_n52yHj",
        "outputId": "f1e24a3a-c04b-4137-a381-472dc4e3b91b"
      },
      "execution_count": 23,
      "outputs": [
        {
          "output_type": "stream",
          "name": "stdout",
          "text": [
            "{1, 2, 3, 4, 5}\n",
            "{1, 2, 3, 4, 5}\n"
          ]
        }
      ]
    },
    {
      "cell_type": "markdown",
      "source": [
        "Question- 20 Write a code to find the intersection of two sets {1, 2, 3} and {2, 3, 4}:"
      ],
      "metadata": {
        "id": "b2I47rPm26zd"
      }
    },
    {
      "cell_type": "code",
      "source": [
        "set1 = {1, 2, 3}\n",
        "set2 = {2, 3, 4}\n",
        "intersection_set = set1.intersection(set2)\n",
        "print(intersection_set)\n",
        "\n",
        "# Alternative way using the & operator\n",
        "intersection_set = set1 & set2\n",
        "print(intersection_set)"
      ],
      "metadata": {
        "colab": {
          "base_uri": "https://localhost:8080/"
        },
        "id": "sKd8nkH423KO",
        "outputId": "a1248781-7bca-499b-f61c-a8b6c1762a23"
      },
      "execution_count": 24,
      "outputs": [
        {
          "output_type": "stream",
          "name": "stdout",
          "text": [
            "{2, 3}\n",
            "{2, 3}\n"
          ]
        }
      ]
    },
    {
      "cell_type": "markdown",
      "source": [
        "Question- 21 Write a code to create a dictionary with the keys \"name\", \"age\", and \"city\", and print it:"
      ],
      "metadata": {
        "id": "kFc-elXW3ER5"
      }
    },
    {
      "cell_type": "code",
      "source": [
        "person = {\n",
        "    \"name\": \"Parth\",\n",
        "    \"age\": 28,\n",
        "    \"city\": \"India \"\n",
        "}\n",
        "print(person)"
      ],
      "metadata": {
        "colab": {
          "base_uri": "https://localhost:8080/"
        },
        "id": "WqlPK6iF3DiF",
        "outputId": "c25d858f-6f2b-48ec-d846-3666dba627d5"
      },
      "execution_count": 25,
      "outputs": [
        {
          "output_type": "stream",
          "name": "stdout",
          "text": [
            "{'name': 'Parth', 'age': 28, 'city': 'India '}\n"
          ]
        }
      ]
    },
    {
      "cell_type": "markdown",
      "source": [
        "Question- 22 Write a code to add a new key-value pair \"country\": \"USA\" to the dictionary {'name': 'John', 'age': 25}:"
      ],
      "metadata": {
        "id": "lCnMRRHc3Ngy"
      }
    },
    {
      "cell_type": "code",
      "source": [
        "person = {'name': 'Parth', 'age': 28}\n",
        "person['country'] = 'India'\n",
        "print(person)"
      ],
      "metadata": {
        "colab": {
          "base_uri": "https://localhost:8080/"
        },
        "id": "_9k9uJzX3MfF",
        "outputId": "b94d7597-dc25-43b0-c9f0-a1f441b6928b"
      },
      "execution_count": 27,
      "outputs": [
        {
          "output_type": "stream",
          "name": "stdout",
          "text": [
            "{'name': 'Parth', 'age': 28, 'country': 'India'}\n"
          ]
        }
      ]
    },
    {
      "cell_type": "markdown",
      "source": [
        "Question- 23 Write a code to access the value associated with the key \"name\" in the dictionary {'name': 'Alice', 'age': 30}:"
      ],
      "metadata": {
        "id": "f_0TLVFo3dq7"
      }
    },
    {
      "cell_type": "code",
      "source": [
        "person = {'name': 'Radhe', 'age': 30}\n",
        "name_value = person['name']\n",
        "print(name_value)\n",
        "name_value = person.get('name')\n",
        "print(name_value)"
      ],
      "metadata": {
        "colab": {
          "base_uri": "https://localhost:8080/"
        },
        "id": "_e9Fo7K33YOH",
        "outputId": "c55904ca-8b37-47cd-f017-1bb20e9b8b5a"
      },
      "execution_count": 29,
      "outputs": [
        {
          "output_type": "stream",
          "name": "stdout",
          "text": [
            "Radhe\n",
            "Radhe\n"
          ]
        }
      ]
    },
    {
      "cell_type": "markdown",
      "source": [
        "Question- 24 Write a code to remove the key \"age\" from the dictionary {'name': 'Bob', 'age': 22, 'city': 'New York'}:"
      ],
      "metadata": {
        "id": "mHKCrC1f3pX5"
      }
    },
    {
      "cell_type": "code",
      "source": [
        "person = {'name': 'Prashant', 'age': 22, 'city': 'Bhagalpur'}\n",
        "del person['age']\n",
        "print(person)\n",
        "\n",
        "# Alternative way\n",
        "person = {'name': 'Aakash', 'age': 22, 'city': 'Uttar Pradesh'}\n",
        "removed_value = person.pop('age')\n",
        "print(person)\n",
        "print(removed_value)"
      ],
      "metadata": {
        "colab": {
          "base_uri": "https://localhost:8080/"
        },
        "id": "YgZBeba53jJD",
        "outputId": "d9af499f-167e-41fd-a466-0cb99e8f35c3"
      },
      "execution_count": 30,
      "outputs": [
        {
          "output_type": "stream",
          "name": "stdout",
          "text": [
            "{'name': 'Prashant', 'city': 'Bhagalpur'}\n",
            "{'name': 'Aakash', 'city': 'Uttar Pradesh'}\n",
            "22\n"
          ]
        }
      ]
    },
    {
      "cell_type": "markdown",
      "source": [
        "Question- 25 Write a code to check if the key \"city\" exists in the dictionary {'name': 'Alice', 'city': 'Paris'}:"
      ],
      "metadata": {
        "id": "wr5clUhf3w9n"
      }
    },
    {
      "cell_type": "code",
      "source": [
        "person = {'name': 'parth', 'city': 'india'}\n",
        "has_city = 'city' in person\n",
        "print(has_city)\n",
        "\n",
        "# Alternative way\n",
        "has_city = person.get('city') is not None\n",
        "print(has_city)"
      ],
      "metadata": {
        "colab": {
          "base_uri": "https://localhost:8080/"
        },
        "id": "0BZHNuP43v9R",
        "outputId": "632a79f8-e883-4d46-cb5b-1abc85121505"
      },
      "execution_count": 33,
      "outputs": [
        {
          "output_type": "stream",
          "name": "stdout",
          "text": [
            "True\n",
            "True\n"
          ]
        }
      ]
    },
    {
      "cell_type": "markdown",
      "source": [
        "Question- 26 Write a code to create a list, a tuple, and a dictionary, and print them all:"
      ],
      "metadata": {
        "id": "9a8wqOOp4AAx"
      }
    },
    {
      "cell_type": "code",
      "source": [
        "my_list = [1, 2, 3]\n",
        "my_tuple = ('a', 'b', 'c')\n",
        "my_dict = {'name': 'parth', 'age': 28}\n",
        "\n",
        "print(\"List:\", my_list)\n",
        "print(\"Tuple:\", my_tuple)\n",
        "print(\"Dictionary:\", my_dict)\n"
      ],
      "metadata": {
        "colab": {
          "base_uri": "https://localhost:8080/"
        },
        "id": "g6zljXCx36kV",
        "outputId": "149335db-f89e-473f-e60e-07f7f8b87904"
      },
      "execution_count": 35,
      "outputs": [
        {
          "output_type": "stream",
          "name": "stdout",
          "text": [
            "List: [1, 2, 3]\n",
            "Tuple: ('a', 'b', 'c')\n",
            "Dictionary: {'name': 'parth', 'age': 28}\n"
          ]
        }
      ]
    },
    {
      "cell_type": "markdown",
      "source": [
        "Question- 27 Write a code to create a list of 5 random numbers between 1 and 100, sort it in ascending order, and print the result"
      ],
      "metadata": {
        "id": "d0_j__0z4Ndq"
      }
    },
    {
      "cell_type": "code",
      "source": [
        "import random\n",
        "\n",
        "\n",
        "random_numbers = [random.randint(1, 100) for _ in range(5)]\n",
        "print(\"Original random numbers:\", random_numbers)\n",
        "\n",
        "\n",
        "random_numbers.sort()\n",
        "print(\"Sorted numbers:\", random_numbers)\n",
        "\n",
        "# Alternative way\n",
        "random_numbers = [random.randint(1, 100) for _ in range(5)]\n",
        "sorted_numbers = sorted(random_numbers)  # This creates a new sorted list\n",
        "print(\"Original:\", random_numbers)\n",
        "print(\"Sorted:\", sorted_numbers)"
      ],
      "metadata": {
        "colab": {
          "base_uri": "https://localhost:8080/"
        },
        "id": "KdaRpPJj4KWq",
        "outputId": "e578fcd4-e083-4ef0-a4ef-2915d77b3a2e"
      },
      "execution_count": 37,
      "outputs": [
        {
          "output_type": "stream",
          "name": "stdout",
          "text": [
            "Original random numbers: [79, 83, 33, 59, 97]\n",
            "Sorted numbers: [33, 59, 79, 83, 97]\n",
            "Original: [77, 57, 25, 57, 95]\n",
            "Sorted: [25, 57, 57, 77, 95]\n"
          ]
        }
      ]
    },
    {
      "cell_type": "markdown",
      "source": [
        "Question- 28 Write a code to create a list with strings and print the element at the third index:"
      ],
      "metadata": {
        "id": "5GMozD4e4dAu"
      }
    },
    {
      "cell_type": "code",
      "source": [
        "fruits = [\"apple\", \"banana\", \"cherry\", \"date\", \"elderberry\", \"fig\"]\n",
        "third_index_element = fruits[3]\n",
        "print(f\"The element at index 3 is: {third_index_element}\")"
      ],
      "metadata": {
        "colab": {
          "base_uri": "https://localhost:8080/"
        },
        "id": "LaRYOO5H4TxB",
        "outputId": "2e833960-aa51-43e7-e2c9-328c5ae806ee"
      },
      "execution_count": 38,
      "outputs": [
        {
          "output_type": "stream",
          "name": "stdout",
          "text": [
            "The element at index 3 is: date\n"
          ]
        }
      ]
    },
    {
      "cell_type": "markdown",
      "source": [
        "Question -29 Write a code to combine two dictionaries into one and print the result:"
      ],
      "metadata": {
        "id": "lwnH__t-4lil"
      }
    },
    {
      "cell_type": "code",
      "source": [
        "dict1 = {'a': 1, 'b': 2}\n",
        "dict2 = {'c': 3, 'd': 4}\n",
        "\n",
        "# Method 1: Using update()\n",
        "combined_dict1 = dict1.copy()  # Create a copy to avoid modifying the original\n",
        "combined_dict1.update(dict2)\n",
        "print(\"Combined dictionary (method 1):\", combined_dict1)\n"
      ],
      "metadata": {
        "colab": {
          "base_uri": "https://localhost:8080/"
        },
        "id": "q-JOW96P4kkC",
        "outputId": "8de44fa6-8677-4385-e965-a42cbef924d8"
      },
      "execution_count": 40,
      "outputs": [
        {
          "output_type": "stream",
          "name": "stdout",
          "text": [
            "Combined dictionary (method 1): {'a': 1, 'b': 2, 'c': 3, 'd': 4}\n"
          ]
        }
      ]
    },
    {
      "cell_type": "markdown",
      "source": [
        "Question- 30  Write a code to convert a list of strings into a set:"
      ],
      "metadata": {
        "id": "bN-0FES14zRE"
      }
    },
    {
      "cell_type": "code",
      "source": [
        "string_list = [\"apple\", \"banana\", \"apple\", \"cherry\", \"banana\"]\n",
        "string_set = set(string_list)\n",
        "print(\"Original list:\", string_list)\n",
        "print(\"Converted to set:\", string_set)\n"
      ],
      "metadata": {
        "colab": {
          "base_uri": "https://localhost:8080/"
        },
        "id": "fyvytpBz4urV",
        "outputId": "964ee807-e38a-4859-9a3f-3c97e1f5e021"
      },
      "execution_count": 42,
      "outputs": [
        {
          "output_type": "stream",
          "name": "stdout",
          "text": [
            "Original list: ['apple', 'banana', 'apple', 'cherry', 'banana']\n",
            "Converted to set: {'banana', 'apple', 'cherry'}\n"
          ]
        }
      ]
    },
    {
      "cell_type": "code",
      "source": [],
      "metadata": {
        "id": "vxB4s8Q244aS"
      },
      "execution_count": null,
      "outputs": []
    }
  ]
}